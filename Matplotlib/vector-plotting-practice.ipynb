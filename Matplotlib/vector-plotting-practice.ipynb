{
 "cells": [
  {
   "cell_type": "code",
   "execution_count": 1,
   "metadata": {},
   "outputs": [],
   "source": [
    "import numpy as np\n",
    "import matplotlib.pyplot as plt\n",
    "%matplotlib inline"
   ]
  },
  {
   "cell_type": "code",
   "execution_count": 3,
   "metadata": {},
   "outputs": [
    {
     "data": {
      "text/plain": [
       "array([1, 1])"
      ]
     },
     "execution_count": 3,
     "metadata": {},
     "output_type": "execute_result"
    }
   ],
   "source": [
    "# plotting a vector\n",
    "\n",
    "v = np.array([1, 1])\n",
    "v"
   ]
  },
  {
   "cell_type": "code",
   "execution_count": 40,
   "metadata": {},
   "outputs": [
    {
     "data": {
      "image/png": "[encoded data removed]",
      "text/plain": [
       "<Figure size 432x288 with 1 Axes>"
      ]
     },
     "metadata": {},
     "output_type": "display_data"
    }
   ],
   "source": [
    "# create an axis plot\n",
    "ax = plt.axes()\n",
    "ax.axis('equal')\n",
    "\n",
    "# draw\n",
    "ax.plot(0, 0, 'or')\n",
    "ax.arrow(0, 0, *v, color='b', linewidth=2.0, head_width=0.15, head_length=0.2, length_includes_head = True)\n",
    "\n",
    "# adjust the space\n",
    "plt.xticks(np.arange(-2, 4))\n",
    "plt.yticks(np.arange(-1, 3))\n",
    "plt.grid(b=True)"
   ]
  },
  {
   "cell_type": "code",
   "execution_count": 45,
   "metadata": {},
   "outputs": [
    {
     "data": {
      "text/plain": [
       "array([3, 3])"
      ]
     },
     "execution_count": 45,
     "metadata": {},
     "output_type": "execute_result"
    }
   ],
   "source": [
    "# Demonstrate scalar multiplication\n",
    "a = 3\n",
    "av = a * v\n",
    "av"
   ]
  },
  {
   "cell_type": "code",
   "execution_count": 50,
   "metadata": {},
   "outputs": [
    {
     "data": {
      "image/png": "[encoded data removed]",
      "text/plain": [
       "<Figure size 432x288 with 1 Axes>"
      ]
     },
     "metadata": {},
     "output_type": "display_data"
    }
   ],
   "source": [
    "# enhance the plot by showing the av vector as a dotted cyan extension of v\n",
    "\n",
    "# create an axis plot\n",
    "ax = plt.axes()\n",
    "ax.axis('equal')\n",
    "\n",
    "# draw\n",
    "ax.plot(0, 0, 'or')\n",
    "ax.arrow(0, 0, *v, color='b', linewidth=2.0, head_width=0.15, head_length=0.2, length_includes_head = True)\n",
    "ax.arrow(0, 0, *av, color='c', linewidth=2.0, head_width=0.15, head_length=0.2, length_includes_head = True, linestyle = 'dotted')\n",
    "\n",
    "# adjust the space\n",
    "plt.xticks(np.arange(-2, 6))\n",
    "plt.yticks(np.arange(-1, 6))\n",
    "plt.grid(b=True)"
   ]
  },
  {
   "cell_type": "code",
   "execution_count": 52,
   "metadata": {},
   "outputs": [
    {
     "data": {
      "text/plain": [
       "array([-2,  2])"
      ]
     },
     "execution_count": 52,
     "metadata": {},
     "output_type": "execute_result"
    }
   ],
   "source": [
    "w = np.array([-2, 2])\n",
    "w"
   ]
  },
  {
   "cell_type": "code",
   "execution_count": 54,
   "metadata": {},
   "outputs": [
    {
     "data": {
      "image/png": "[encoded data removed]",
      "text/plain": [
       "<Figure size 432x288 with 1 Axes>"
      ]
     },
     "metadata": {},
     "output_type": "display_data"
    }
   ],
   "source": [
    "# now show the graph of two vectors\n",
    "\n",
    "ax = plt.axes()\n",
    "ax.axis('equal')\n",
    "\n",
    "# draw\n",
    "ax.plot(0, 0, 'or')\n",
    "ax.arrow(0, 0, *v, color='b', linewidth=2.0, head_width=0.15, head_length=0.2, length_includes_head = True)\n",
    "ax.arrow(0, 0, *w, color='c', linewidth=2.0, head_width=0.15, head_length=0.2, length_includes_head = True)\n",
    "\n",
    "# adjust the space\n",
    "plt.xticks(np.arange(-3, 4))\n",
    "plt.yticks(np.arange(-1, 4))\n",
    "plt.grid(b=True)"
   ]
  },
  {
   "cell_type": "code",
   "execution_count": 56,
   "metadata": {},
   "outputs": [
    {
     "data": {
      "text/plain": [
       "array([-1,  3])"
      ]
     },
     "execution_count": 56,
     "metadata": {},
     "output_type": "execute_result"
    }
   ],
   "source": [
    "# show the results of adding v + w\n",
    "u = v + w\n",
    "u"
   ]
  },
  {
   "cell_type": "code",
   "execution_count": 66,
   "metadata": {},
   "outputs": [
    {
     "data": {
      "image/png": "[encoded data removed]",
      "text/plain": [
       "<Figure size 432x288 with 1 Axes>"
      ]
     },
     "metadata": {},
     "output_type": "display_data"
    }
   ],
   "source": [
    "ax = plt.axes()\n",
    "ax.axis('equal')\n",
    "\n",
    "# draw\n",
    "ax.plot(0, 0, 'or')\n",
    "ax.arrow(0, 0, *v, color='b', linewidth=2.0, head_width=0.15, head_length=0.2, length_includes_head = True)\n",
    "ax.arrow(*v, *w, color='c', linewidth=2.0, head_width=0.15, head_length=0.2, length_includes_head = True, linestyle='dotted')\n",
    "ax.arrow(0, 0, *u, linewidth=2.0, head_width=0.15, head_length=0.2, length_includes_head = True)\n",
    "\n",
    "# adjust the space\n",
    "plt.xticks(np.arange(-3, 5))\n",
    "plt.yticks(np.arange(-1, 5))\n",
    "plt.grid(b=True)"
   ]
  },
  {
   "cell_type": "code",
   "execution_count": 72,
   "metadata": {},
   "outputs": [
    {
     "data": {
      "image/png": "[encoded data removed]",
      "text/plain": [
       "<Figure size 432x288 with 1 Axes>"
      ]
     },
     "metadata": {},
     "output_type": "display_data"
    }
   ],
   "source": [
    "# plot the decomposition of a vector into basis vectors\n",
    "\n",
    "v = np.array([-1, 2])\n",
    "i = np.array([1, 0])\n",
    "j = np.array([0, 1])\n",
    "\n",
    "v_ihat = v[0] * i\n",
    "v_jhat = v[1] * j\n",
    "\n",
    "ax = plt.axes()\n",
    "ax.axis('equal')\n",
    "\n",
    "# draw\n",
    "ax.plot(0, 0, 'or')\n",
    "ax.arrow(0, 0, *v_ihat, color='g', linestyle='dotted', \n",
    "         linewidth=2.0, head_width=0.15, head_length=0.2, length_includes_head = True)\n",
    "ax.arrow(*v_ihat, *v_jhat, color='r', linestyle='dotted', \n",
    "         linewidth=2.0, head_width=0.15, head_length=0.2, length_includes_head = True)\n",
    "ax.arrow(0, 0, *v, color='b',\n",
    "         linewidth=2.0, head_width=0.15, head_length=0.2, length_includes_head = True)\n",
    "\n",
    "# set grid and bounds\n",
    "plt.xticks(np.arange(-2, 6))\n",
    "plt.yticks(np.arange(-2, 6))\n",
    "plt.grid(b=True)"
   ]
  },
  {
   "cell_type": "code",
   "execution_count": 83,
   "metadata": {},
   "outputs": [
    {
     "data": {
      "image/png": "[encoded data removed]",
      "text/plain": [
       "<Figure size 432x288 with 1 Axes>"
      ]
     },
     "metadata": {},
     "output_type": "display_data"
    }
   ],
   "source": [
    "# plot v using transformed basis vectors\n",
    "\n",
    "v = np.array([-1, 2])\n",
    "i_t = np.array([3, 1])\n",
    "j_t = np.array([1, 2])\n",
    "\n",
    "v_ihat_t = v[0] * i_t\n",
    "v_jhat_t = v[1] * j_t\n",
    "\n",
    "v_t = v_ihat_t + v_jhat_t\n",
    "\n",
    "ax = plt.axes()\n",
    "ax.axis('equal')\n",
    "\n",
    "# draw\n",
    "ax.plot(0, 0, 'or')\n",
    "ax.arrow(0, 0, *v, color='skyblue',\n",
    "         linewidth=2.0, head_width=0.15, head_length=0.2, length_includes_head = True)\n",
    "ax.arrow(0, 0, *v_ihat_t, color='g', linestyle='dotted', \n",
    "         linewidth=2.0, head_width=0.15, head_length=0.2, length_includes_head = True)\n",
    "ax.arrow(*v_ihat_t, *v_jhat_t, color='r', linestyle='dotted', \n",
    "         linewidth=2.0, head_width=0.15, head_length=0.2, length_includes_head = True)\n",
    "ax.arrow(0, 0, *v_t, color='b',\n",
    "         linewidth=2.0, head_width=0.15, head_length=0.2, length_includes_head = True)\n",
    "\n",
    "# set grid and bounds\n",
    "plt.xticks(np.arange(-4, 6))\n",
    "plt.yticks(np.arange(-4, 6))\n",
    "plt.grid(b=True)"
   ]
  },
  {
   "cell_type": "code",
   "execution_count": 88,
   "metadata": {},
   "outputs": [
    {
     "name": "stdout",
     "output_type": "stream",
     "text": [
      "[-1  3]\n",
      "[-1  3]\n"
     ]
    }
   ],
   "source": [
    "print(v_t)\n",
    "\n",
    "# compute v_t as the product of the ij matrix and v\n",
    "ij_t = np.array([[3, 1],[1, 2]])\n",
    "v_t2 = np.matmul(ij_t, v)\n",
    "print(v_t2)"
   ]
  }
 ],
 "metadata": {
  "kernelspec": {
   "display_name": "Python [conda env:anaconda3]",
   "language": "python",
   "name": "conda-env-anaconda3-py"
  },
  "language_info": {
   "codemirror_mode": {
    "name": "ipython",
    "version": 3
   },
   "file_extension": ".py",
   "mimetype": "text/x-python",
   "name": "python",
   "nbconvert_exporter": "python",
   "pygments_lexer": "ipython3",
   "version": "3.6.6"
  }
 },
 "nbformat": 4,
 "nbformat_minor": 2
}
