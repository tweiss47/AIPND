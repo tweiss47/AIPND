{
 "cells": [
  {
   "cell_type": "markdown",
   "metadata": {},
   "source": [
    "Line: $3x_1 + 4x_2 - 10 = 0$  \n",
    "Point: $(1, 1)$  \n",
    "Learning Rate: 0.1"
   ]
  },
  {
   "cell_type": "code",
   "execution_count": 1,
   "metadata": {},
   "outputs": [],
   "source": [
    "import numpy as np"
   ]
  },
  {
   "cell_type": "code",
   "execution_count": 23,
   "metadata": {},
   "outputs": [
    {
     "name": "stdout",
     "output_type": "stream",
     "text": [
      "[ 3.1  4.1] -9.9 -2.7\n",
      "[ 3.2  4.2] -9.8 -2.4\n",
      "[ 3.3  4.3] -9.700000000000001 -2.1\n",
      "[ 3.4  4.4] -9.600000000000001 -1.8\n",
      "[ 3.5  4.5] -9.500000000000002 -1.5\n",
      "[ 3.6  4.6] -9.400000000000002 -1.2\n",
      "[ 3.7  4.7] -9.300000000000002 -0.9\n",
      "[ 3.8  4.8] -9.200000000000003 -0.6\n",
      "[ 3.9  4.9] -9.100000000000003 -0.3\n",
      "[ 4.  5.] -9.000000000000004 -7.1054273576e-15\n",
      "[ 4.1  5.1] -8.900000000000004 0.3\n"
     ]
    },
    {
     "data": {
      "text/plain": [
       "(11, 0.29999999999999183)"
      ]
     },
     "execution_count": 23,
     "metadata": {},
     "output_type": "execute_result"
    }
   ],
   "source": [
    "W = np.array([3, 4])\n",
    "x = np.array([1, 1])\n",
    "b = -10\n",
    "lr = 0.1\n",
    "\n",
    "count = 0\n",
    "y = np.matmul(x, W) + b\n",
    "while y < 0:\n",
    "    count += 1\n",
    "    W = W + lr * x\n",
    "    b += lr * 1\n",
    "    y = np.matmul(x, W) + b\n",
    "    print(W, b, y)\n",
    "    \n",
    "(count, y)"
   ]
  },
  {
   "cell_type": "code",
   "execution_count": 43,
   "metadata": {},
   "outputs": [
    {
     "data": {
      "text/plain": [
       "array([10, 14])"
      ]
     },
     "execution_count": 43,
     "metadata": {},
     "output_type": "execute_result"
    }
   ],
   "source": [
    "W = np.array([1,2])\n",
    "d2 = np.array(range(1,5))\n",
    "d2 = d2.reshape((2,2))\n",
    "W += d2[1] * 3\n",
    "W"
   ]
  },
  {
   "cell_type": "code",
   "execution_count": 46,
   "metadata": {},
   "outputs": [
    {
     "data": {
      "text/plain": [
       "array([10, 14])"
      ]
     },
     "execution_count": 46,
     "metadata": {},
     "output_type": "execute_result"
    }
   ],
   "source": [
    "W = np.array([1,2])\n",
    "d2 = np.array(range(1,5))\n",
    "d2 = d2.reshape((2,2))\n",
    "W[0] += d2[1][0] * 3\n",
    "W[1] += d2[1][1] * 3\n",
    "W"
   ]
  },
  {
   "cell_type": "markdown",
   "metadata": {},
   "source": [
    "Calculating the Cross Entropy"
   ]
  },
  {
   "cell_type": "code",
   "execution_count": 50,
   "metadata": {},
   "outputs": [
    {
     "data": {
      "text/plain": [
       "5.1159958097540823"
      ]
     },
     "execution_count": 50,
     "metadata": {},
     "output_type": "execute_result"
    }
   ],
   "source": [
    "Y = [0, 0, 1]\n",
    "P = [0.8, 0.7, 0.1]\n",
    "\n",
    "ce = 0.0\n",
    "for i in range(len(Y)):\n",
    "    if Y[i]:\n",
    "        ce -= Y[i] * np.log(P[i])\n",
    "    else:\n",
    "        ce -= (1 - Y[i]) * np.log(1 - P[i])\n",
    "\n",
    "ce"
   ]
  },
  {
   "cell_type": "code",
   "execution_count": 52,
   "metadata": {},
   "outputs": [
    {
     "data": {
      "text/plain": [
       "5.1159958097540823"
      ]
     },
     "execution_count": 52,
     "metadata": {},
     "output_type": "execute_result"
    }
   ],
   "source": [
    "Y = np.float_(Y)\n",
    "P = np.float_(P)\n",
    "-np.sum(Y * np.log(P) + (1 - Y) * np.log(1 - P))"
   ]
  }
 ],
 "metadata": {
  "kernelspec": {
   "display_name": "Python [conda env:anaconda3]",
   "language": "python",
   "name": "conda-env-anaconda3-py"
  },
  "language_info": {
   "codemirror_mode": {
    "name": "ipython",
    "version": 3
   },
   "file_extension": ".py",
   "mimetype": "text/x-python",
   "name": "python",
   "nbconvert_exporter": "python",
   "pygments_lexer": "ipython3",
   "version": "3.6.6"
  }
 },
 "nbformat": 4,
 "nbformat_minor": 2
}
